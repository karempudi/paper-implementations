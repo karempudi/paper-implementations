{
 "cells": [
  {
   "cell_type": "code",
   "execution_count": 1,
   "id": "aa4ca4f6-db90-47b9-a5f9-7e506f19fcfd",
   "metadata": {},
   "outputs": [],
   "source": [
    "import torch\n",
    "from tqdm import tqdm"
   ]
  },
  {
   "cell_type": "code",
   "execution_count": 2,
   "id": "aa61cad8-64bb-45ac-810c-7490ab312274",
   "metadata": {},
   "outputs": [],
   "source": [
    "# dataset is a shakespeare text in input.txt\n",
    "# wget https://raw.githubusercontent.com/karpathy/char-rnn/master/data/tinyshakespeare/input.txt\n",
    "\n",
    "def get_data():\n",
    "    # data will be some text with characters and some newlines, roughly 1.1 million characters\n",
    "    with open('input.txt', 'r', encoding='utf-8') as f:\n",
    "        data = f.read()\n",
    "    return data"
   ]
  },
  {
   "cell_type": "code",
   "execution_count": 3,
   "id": "89e03044-da47-487b-aa77-cec881c9166b",
   "metadata": {},
   "outputs": [
    {
     "name": "stdout",
     "output_type": "stream",
     "text": [
      "Data shape: torch.Size([1115394]), dtype: torch.int64\n"
     ]
    }
   ],
   "source": [
    "text = get_data()\n",
    "#['\\n', ' ', '!', '$', '&', \"'\", ',', '-', '.', '3', ':', ';', '?', 'A',\n",
    "#'B', 'C', 'D', 'E', 'F', 'G', 'H', 'I', 'J', 'K', 'L', 'M', 'N', 'O', \n",
    "#'P', 'Q', 'R', 'S', 'T', 'U', 'V', 'W', 'X', 'Y', 'Z', 'a', 'b', 'c',\n",
    "#'d', 'e', 'f', 'g', 'h', 'i', 'j', 'k', 'l', 'm', 'n', 'o', 'p', 'q', \n",
    "#'r', 's', 't', 'u', 'v', 'w', 'x', 'y', 'z']\n",
    "chars = sorted(list(set(text)))\n",
    "vocab_size = len(chars)\n",
    "stoi = { ch: i for i, ch in enumerate(chars)}\n",
    "itos = { i: ch for i, ch in enumerate(chars)}\n",
    "# for a string give a list of integers for each character in it\n",
    "encode = lambda s: [stoi[ch] for ch in s]\n",
    "# do the opposite\n",
    "decode = lambda li: [itos[i] for i in li]\n",
    "\n",
    "# convert all text into numbers\n",
    "data = torch.tensor(encode(text), dtype=torch.long)\n",
    "print(f\"Data shape: {data.shape}, dtype: {data.dtype}\")\n"
   ]
  },
  {
   "cell_type": "markdown",
   "id": "c9516b34-4db0-4b3f-ad3d-238893ea50a3",
   "metadata": {},
   "source": [
    "### Split data"
   ]
  },
  {
   "cell_type": "code",
   "execution_count": 4,
   "id": "3797ef73-4feb-497c-bbe8-5f927c22f105",
   "metadata": {},
   "outputs": [],
   "source": [
    "n = int(0.9 * len(data))\n",
    "train_data= data[:n]\n",
    "val_data = data[n:]"
   ]
  },
  {
   "cell_type": "code",
   "execution_count": 5,
   "id": "fdcfd092-fbe7-4e44-a63c-fc5ae5d41fa5",
   "metadata": {},
   "outputs": [
    {
     "data": {
      "text/plain": [
       "(1003854, 111540)"
      ]
     },
     "execution_count": 5,
     "metadata": {},
     "output_type": "execute_result"
    }
   ],
   "source": [
    "len(train_data), len(val_data)"
   ]
  },
  {
   "cell_type": "code",
   "execution_count": 6,
   "id": "8eeb3703-241b-4cb7-82ac-c5e2fe4b45de",
   "metadata": {},
   "outputs": [],
   "source": [
    "context_length = 8 # I like context length more than block size\n"
   ]
  },
  {
   "cell_type": "code",
   "execution_count": 7,
   "id": "babadd10-fb1b-45db-9e54-3eb7128ace61",
   "metadata": {},
   "outputs": [
    {
     "name": "stdout",
     "output_type": "stream",
     "text": [
      "Input: tensor([18]), target: 47\n",
      "Input: tensor([18, 47]), target: 56\n",
      "Input: tensor([18, 47, 56]), target: 57\n",
      "Input: tensor([18, 47, 56, 57]), target: 58\n",
      "Input: tensor([18, 47, 56, 57, 58]), target: 1\n",
      "Input: tensor([18, 47, 56, 57, 58,  1]), target: 15\n",
      "Input: tensor([18, 47, 56, 57, 58,  1, 15]), target: 47\n",
      "Input: tensor([18, 47, 56, 57, 58,  1, 15, 47]), target: 58\n"
     ]
    }
   ],
   "source": [
    "x= train_data[:context_length]\n",
    "y = train_data[1:context_length+1]\n",
    "for t in range(context_length):\n",
    "    context = x[:t+1]\n",
    "    target = y[t]\n",
    "    print(f\"Input: {context}, target: {target}\")"
   ]
  },
  {
   "cell_type": "code",
   "execution_count": 8,
   "id": "b0edb469-f8ff-48a2-9997-91ee3015d1c8",
   "metadata": {},
   "outputs": [
    {
     "data": {
      "text/plain": [
       "<torch._C.Generator at 0x7bb0aabec0b0>"
      ]
     },
     "execution_count": 8,
     "metadata": {},
     "output_type": "execute_result"
    }
   ],
   "source": [
    "torch.manual_seed(1337)"
   ]
  },
  {
   "cell_type": "code",
   "execution_count": 9,
   "id": "ddf3080b-ccca-4143-bc3d-efac704f6bc8",
   "metadata": {},
   "outputs": [],
   "source": [
    "batch_size = 4\n",
    "context_length = 8\n",
    "\n",
    "def get_batch(split):\n",
    "    data = train_data if split == 'train' else val_data\n",
    "    # generate (batch_size,) indices that are in [0, len(data) - context_length]\n",
    "    ix = torch.randint(len(data) - context_length, (batch_size,))\n",
    "    # each ix gives one context in the batch\n",
    "    x = torch.stack([data[i:i+context_length] for i in ix])\n",
    "    y = torch.stack([data[i+1:i+context_length+1] for i in ix])\n",
    "    return x, y"
   ]
  },
  {
   "cell_type": "code",
   "execution_count": 10,
   "id": "781bfbd9-9ffe-42be-8c12-f6dc4cc1b90c",
   "metadata": {},
   "outputs": [],
   "source": [
    "xb, yb = get_batch('train')"
   ]
  },
  {
   "cell_type": "code",
   "execution_count": 11,
   "id": "a7c5a680-e4e1-4e13-90cc-0941303a5e67",
   "metadata": {},
   "outputs": [
    {
     "name": "stdout",
     "output_type": "stream",
     "text": [
      "torch.Size([4, 8]) torch.Size([4, 8])\n"
     ]
    }
   ],
   "source": [
    "print(xb.shape, yb.shape)"
   ]
  },
  {
   "cell_type": "code",
   "execution_count": 12,
   "id": "4415d6d1-9f92-4413-ba72-dd01f66bf935",
   "metadata": {},
   "outputs": [
    {
     "name": "stdout",
     "output_type": "stream",
     "text": [
      "Inputs: tensor([[24, 43, 58,  5, 57,  1, 46, 43],\n",
      "        [44, 53, 56,  1, 58, 46, 39, 58],\n",
      "        [52, 58,  1, 58, 46, 39, 58,  1],\n",
      "        [25, 17, 27, 10,  0, 21,  1, 54]])\n"
     ]
    }
   ],
   "source": [
    "print(f\"Inputs: {xb}\")"
   ]
  },
  {
   "cell_type": "code",
   "execution_count": 13,
   "id": "c77ac9dd-73b0-4853-98f7-07baf4e34d6d",
   "metadata": {},
   "outputs": [
    {
     "name": "stdout",
     "output_type": "stream",
     "text": [
      "Targets: tensor([[43, 58,  5, 57,  1, 46, 43, 39],\n",
      "        [53, 56,  1, 58, 46, 39, 58,  1],\n",
      "        [58,  1, 58, 46, 39, 58,  1, 46],\n",
      "        [17, 27, 10,  0, 21,  1, 54, 39]])\n"
     ]
    }
   ],
   "source": [
    "print(f\"Targets: {yb}\")"
   ]
  },
  {
   "cell_type": "code",
   "execution_count": 14,
   "id": "71d2d31a-246e-4995-bec0-d120ce9a9395",
   "metadata": {},
   "outputs": [
    {
     "data": {
      "text/plain": [
       "<torch._C.Generator at 0x7bb0aabec0b0>"
      ]
     },
     "execution_count": 14,
     "metadata": {},
     "output_type": "execute_result"
    }
   ],
   "source": [
    "import torch.nn as nn\n",
    "import torch.nn.functional as F\n",
    "torch.manual_seed(1337)"
   ]
  },
  {
   "cell_type": "code",
   "execution_count": 15,
   "id": "9b39d205-2422-49bf-9def-1c394c338d54",
   "metadata": {},
   "outputs": [],
   "source": [
    "# basically given the current character, learn\n",
    "# a probability distribution over the next characters.\n",
    "# when you get new characters, lookup in the table to see what could come next\n",
    "class BigramModel(nn.Module):\n",
    "    def __init__(self, vocab_size):\n",
    "        super().__init__()\n",
    "        self.token_embedding_table = nn.Embedding(vocab_size, vocab_size)\n",
    "\n",
    "    def forward(self, inputs, targets=None):\n",
    "        # get the logits \n",
    "        # # (Batch_size x Context length x (vocab_size/embedding dimension)\n",
    "        logits = self.token_embedding_table(inputs)\n",
    "\n",
    "        if targets is None:\n",
    "            loss = None\n",
    "        else:\n",
    "            B, T, C = logits.shape\n",
    "            logits = logits.view(B*T, C)\n",
    "            # target are just indices of the next character.\n",
    "            # In some sense T is just doing more complex batching\n",
    "            # You could just unroll this to (BT, 1) input -> (BT, C) logits\n",
    "            # and (BT) as target\n",
    "            targets = targets.view(B*T)\n",
    "            loss = F.cross_entropy(logits, targets)\n",
    "            \n",
    "        return logits, loss\n",
    "\n",
    "    def generate(self, inputs, max_new_tokens):\n",
    "        # inputs is (B x context_length) and keeps increasing as you generate\n",
    "        # probably this doesn't matter\n",
    "        for _ in range(max_new_tokens):\n",
    "            #print(inputs.shape)\n",
    "            logits, loss = self(inputs)\n",
    "            #print(logits.shape)\n",
    "            # logits the last value will have the next token \n",
    "            # it is a bit moot to call is context, but we will expand on it \n",
    "            # i guess, with attention\n",
    "            # get the prob dist of the last input in each batch\n",
    "            logits = logits[:, -1, :]\n",
    "            # apply softmax to get probabilits\n",
    "            probs = F.softmax(logits, dim=-1) # still B x vocab_size\n",
    "            # sample from the distribution to get the next character\n",
    "            idx_next = torch.multinomial(probs, num_samples=1) # (B, 1)%\n",
    "\n",
    "            # append to th input\n",
    "            inputs = torch.cat((inputs, idx_next), dim=1) # (B, context_length + 1)\n",
    "        return inputs"
   ]
  },
  {
   "cell_type": "code",
   "execution_count": 38,
   "id": "0a944e9a-3420-4dc8-841b-9f0fabda4971",
   "metadata": {},
   "outputs": [],
   "source": [
    "model = BigramModel(vocab_size)"
   ]
  },
  {
   "cell_type": "code",
   "execution_count": 39,
   "id": "85db67b6-6895-4c14-be2c-5f544b329e75",
   "metadata": {},
   "outputs": [],
   "source": [
    "logits, loss = model(xb, yb)"
   ]
  },
  {
   "cell_type": "code",
   "execution_count": 40,
   "id": "f238cd74-d1a1-4ea6-8855-7738adbf8e33",
   "metadata": {},
   "outputs": [
    {
     "data": {
      "text/plain": [
       "tensor(4.6829, grad_fn=<NllLossBackward0>)"
      ]
     },
     "execution_count": 40,
     "metadata": {},
     "output_type": "execute_result"
    }
   ],
   "source": [
    "loss"
   ]
  },
  {
   "cell_type": "code",
   "execution_count": 41,
   "id": "a8af5547-4678-47f2-8024-5976326eb230",
   "metadata": {},
   "outputs": [],
   "source": [
    "new_input = model.generate(xb, max_new_tokens=10)"
   ]
  },
  {
   "cell_type": "code",
   "execution_count": 42,
   "id": "db486ce1-8154-45a8-b97b-09d50b2a50ea",
   "metadata": {},
   "outputs": [
    {
     "data": {
      "text/plain": [
       "torch.Size([512, 8])"
      ]
     },
     "execution_count": 42,
     "metadata": {},
     "output_type": "execute_result"
    }
   ],
   "source": [
    "xb.shape"
   ]
  },
  {
   "cell_type": "code",
   "execution_count": 43,
   "id": "dc142638-8e2d-4d8d-8e36-a1cc2409503f",
   "metadata": {},
   "outputs": [
    {
     "data": {
      "text/plain": [
       "torch.Size([512, 18])"
      ]
     },
     "execution_count": 43,
     "metadata": {},
     "output_type": "execute_result"
    }
   ],
   "source": [
    "new_input.shape"
   ]
  },
  {
   "cell_type": "code",
   "execution_count": 44,
   "id": "8d5d054d-1f56-458f-812e-bc8021dc4a3f",
   "metadata": {},
   "outputs": [
    {
     "name": "stdout",
     "output_type": "stream",
     "text": [
      " NI&yH: RIDaV Fzo'xbkOJ-duOh;MeEmp$rinJ&gD?U$AltDNbin-&OAieq\n",
      "S$mJPDt!ORtcxK.;yQnOypXfh;.$G:Om!J&HsFhO\n"
     ]
    }
   ],
   "source": [
    "print(''.join(decode(model.generate(inputs = torch.ones((1, 1), dtype=torch.long), max_new_tokens=100)[0].tolist())))\n"
   ]
  },
  {
   "cell_type": "code",
   "execution_count": 45,
   "id": "47ebc009-860d-423f-bb9b-02cbbb5b5fe1",
   "metadata": {},
   "outputs": [],
   "source": [
    "optimizer = torch.optim.AdamW(model.parameters(), lr=1e-3)"
   ]
  },
  {
   "cell_type": "code",
   "execution_count": 46,
   "id": "d0876c6c-34d7-4b1f-bf26-d0db6aa0db45",
   "metadata": {},
   "outputs": [
    {
     "name": "stderr",
     "output_type": "stream",
     "text": [
      "100%|█████████████████████████████████████| 10000/10000 [04:05<00:00, 40.79it/s]"
     ]
    },
    {
     "name": "stdout",
     "output_type": "stream",
     "text": [
      "2.4715466499328613\n"
     ]
    },
    {
     "name": "stderr",
     "output_type": "stream",
     "text": [
      "\n"
     ]
    }
   ],
   "source": [
    "batch_size = 1024\n",
    "losses =[]\n",
    "for steps in tqdm(range(10000)):\n",
    "    # sample a batch of data\n",
    "    xb, yb = get_batch('train')\n",
    "\n",
    "    # evaluate the loss\n",
    "    logits, loss = model(xb, yb)\n",
    "    optimizer.zero_grad(set_to_none=True)\n",
    "    loss.backward()\n",
    "    optimizer.step()\n",
    "    losses.append(loss.item())\n",
    "print(loss.item())\n"
   ]
  },
  {
   "cell_type": "code",
   "execution_count": 48,
   "id": "a36bbaea-5ae2-459a-a02c-9cfd16393a5e",
   "metadata": {},
   "outputs": [
    {
     "name": "stdout",
     "output_type": "stream",
     "text": [
      "qungeir higowire'shis he sthis;\n",
      "Hed s ld mes,\n",
      "PRourtham ce I y RENINGo whure the ivimeat tcenainouare\n"
     ]
    }
   ],
   "source": [
    "print(''.join(decode(model.generate(inputs = 55*torch.ones((1, 1), dtype=torch.long), max_new_tokens=100)[0].tolist())))"
   ]
  },
  {
   "cell_type": "code",
   "execution_count": 49,
   "id": "7b5155d0-a0bd-4791-b5a9-3f491897e81f",
   "metadata": {},
   "outputs": [],
   "source": [
    "import matplotlib.pyplot as plt"
   ]
  },
  {
   "cell_type": "code",
   "execution_count": 50,
   "id": "4d0ca588-e23a-4695-a125-6946f0cb3772",
   "metadata": {},
   "outputs": [
    {
     "data": {
      "text/plain": [
       "[<matplotlib.lines.Line2D at 0x7bafc1d0c410>]"
      ]
     },
     "execution_count": 50,
     "metadata": {},
     "output_type": "execute_result"
    },
    {
     "data": {
      "image/png": "[encoded data removed]",
      "text/plain": [
       "<Figure size 640x480 with 1 Axes>"
      ]
     },
     "metadata": {},
     "output_type": "display_data"
    }
   ],
   "source": [
    "plt.plot(losses)"
   ]
  },
  {
   "cell_type": "code",
   "execution_count": 51,
   "id": "87d6a162-0a0d-4d9f-a535-862fbb89afd5",
   "metadata": {},
   "outputs": [
    {
     "name": "stdout",
     "output_type": "stream",
     "text": [
      " s.\n",
      "ur brelinder llele resaparupoushais, gu w y sm, molaverabsolubr IOfe ch ha it sthe feaiss he may s fod\n",
      "I y hepiocardse tht omofr l u cakederrs, in bunoridithe teeson me ur fabras T:\n",
      "\n",
      "\n",
      "PO:\n",
      "thits RE wifepossunack heme;\n",
      "Thore aks f asandy ancath wicaprfay chouls:\n",
      "KEME:\n",
      "Whemoyout in t!\n",
      "Theand hmuth eat.'sive ro Fout math moud yQUThy slimatinere'\n",
      "\n",
      "\n",
      "\n",
      "FRI avimir f\n",
      "Harn haveeinfonyinanimat wo afl he rd.GAneo y y.\n",
      "LAppl con.\n",
      "\n",
      "Haw\n",
      "OS:\n",
      "\n",
      "Thin non?\n",
      "He edCO:\n",
      "Sinisin'd the theay manl pr CKE f fastistane\n",
      "Sed\n"
     ]
    }
   ],
   "source": [
    "print(''.join(decode(model.generate(inputs = torch.ones((1, 1), dtype=torch.long), max_new_tokens=500)[0].tolist())))\n"
   ]
  },
  {
   "cell_type": "code",
   "execution_count": null,
   "id": "08d7bb0a-fcc5-4f4f-9569-a36e9e8d9fa1",
   "metadata": {},
   "outputs": [],
   "source": []
  }
 ],
 "metadata": {
  "kernelspec": {
   "display_name": "Python 3 (ipykernel)",
   "language": "python",
   "name": "python3"
  },
  "language_info": {
   "codemirror_mode": {
    "name": "ipython",
    "version": 3
   },
   "file_extension": ".py",
   "mimetype": "text/x-python",
   "name": "python",
   "nbconvert_exporter": "python",
   "pygments_lexer": "ipython3",
   "version": "3.11.0rc1"
  }
 },
 "nbformat": 4,
 "nbformat_minor": 5
}
